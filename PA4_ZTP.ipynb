{
 "cells": [
  {
   "cell_type": "markdown",
   "id": "b0776c27",
   "metadata": {},
   "source": [
    "## Programming Assignment 2"
   ]
  },
  {
   "cell_type": "markdown",
   "id": "54df20ef",
   "metadata": {},
   "source": [
    "### Zachary Pilbean"
   ]
  },
  {
   "cell_type": "markdown",
   "id": "23e5889d",
   "metadata": {},
   "source": [
    "### Version 1"
   ]
  },
  {
   "cell_type": "markdown",
   "id": "b1430b26",
   "metadata": {},
   "source": [
    "### CS150-01"
   ]
  },
  {
   "cell_type": "markdown",
   "id": "5ee03cec",
   "metadata": {},
   "source": [
    "The append function adds an item to your list"
   ]
  },
  {
   "cell_type": "code",
   "execution_count": 1,
   "id": "728b97e9",
   "metadata": {},
   "outputs": [],
   "source": [
    "line=[]"
   ]
  },
  {
   "cell_type": "code",
   "execution_count": 2,
   "id": "b87cdbee",
   "metadata": {},
   "outputs": [
    {
     "data": {
      "text/plain": [
       "['Python']"
      ]
     },
     "execution_count": 2,
     "metadata": {},
     "output_type": "execute_result"
    }
   ],
   "source": [
    "line.append('Python')\n",
    "line"
   ]
  },
  {
   "cell_type": "markdown",
   "id": "d0fa1e0f",
   "metadata": {},
   "source": [
    "The extend function makes what is in the parentheses into individual letters in the list."
   ]
  },
  {
   "cell_type": "code",
   "execution_count": 3,
   "id": "60be62fa",
   "metadata": {},
   "outputs": [
    {
     "data": {
      "text/plain": [
       "['Python', 'P', 'y', 't', 'h', 'o', 'n']"
      ]
     },
     "execution_count": 3,
     "metadata": {},
     "output_type": "execute_result"
    }
   ],
   "source": [
    "line.extend('Python')\n",
    "line"
   ]
  },
  {
   "cell_type": "markdown",
   "id": "af643704",
   "metadata": {},
   "source": [
    "The insert function adds something the the list in the position you tell it."
   ]
  },
  {
   "cell_type": "code",
   "execution_count": 4,
   "id": "2889a764",
   "metadata": {},
   "outputs": [],
   "source": [
    "line.insert(0, 'Program')"
   ]
  },
  {
   "cell_type": "code",
   "execution_count": 5,
   "id": "26ca5da0",
   "metadata": {},
   "outputs": [
    {
     "data": {
      "text/plain": [
       "['Program', 'Python', 'P', 'y', 't', 'h', 'o', 'n']"
      ]
     },
     "execution_count": 5,
     "metadata": {},
     "output_type": "execute_result"
    }
   ],
   "source": [
    "line"
   ]
  },
  {
   "cell_type": "markdown",
   "id": "9ef6a16a",
   "metadata": {},
   "source": [
    "The remove function removes an item you indicate from the list."
   ]
  },
  {
   "cell_type": "code",
   "execution_count": 6,
   "id": "6cfc9746",
   "metadata": {},
   "outputs": [],
   "source": [
    "line.remove('Python')"
   ]
  },
  {
   "cell_type": "code",
   "execution_count": 7,
   "id": "2c7701fa",
   "metadata": {},
   "outputs": [
    {
     "data": {
      "text/plain": [
       "['Program', 'P', 'y', 't', 'h', 'o', 'n']"
      ]
     },
     "execution_count": 7,
     "metadata": {},
     "output_type": "execute_result"
    }
   ],
   "source": [
    "line"
   ]
  },
  {
   "cell_type": "markdown",
   "id": "84b00539",
   "metadata": {},
   "source": [
    "The count function gives you the number of times something appears in a list, string, etc. "
   ]
  },
  {
   "cell_type": "code",
   "execution_count": 8,
   "id": "208312bb",
   "metadata": {},
   "outputs": [],
   "source": [
    "message='python programming language'"
   ]
  },
  {
   "cell_type": "code",
   "execution_count": 9,
   "id": "2f83394c",
   "metadata": {},
   "outputs": [
    {
     "data": {
      "text/plain": [
       "2"
      ]
     },
     "execution_count": 9,
     "metadata": {},
     "output_type": "execute_result"
    }
   ],
   "source": [
    "message.count('p')"
   ]
  },
  {
   "cell_type": "code",
   "execution_count": 10,
   "id": "e1b835f5",
   "metadata": {},
   "outputs": [
    {
     "data": {
      "text/plain": [
       "4"
      ]
     },
     "execution_count": 10,
     "metadata": {},
     "output_type": "execute_result"
    }
   ],
   "source": [
    "message.count('g')"
   ]
  },
  {
   "cell_type": "markdown",
   "id": "04e29ae9",
   "metadata": {},
   "source": [
    "The index function give the position an item in a list is in. "
   ]
  },
  {
   "cell_type": "code",
   "execution_count": 11,
   "id": "0e2e5d2e",
   "metadata": {},
   "outputs": [],
   "source": [
    "line2=['apple', 'banana', 'grape']"
   ]
  },
  {
   "cell_type": "code",
   "execution_count": 12,
   "id": "b26960fc",
   "metadata": {},
   "outputs": [
    {
     "data": {
      "text/plain": [
       "1"
      ]
     },
     "execution_count": 12,
     "metadata": {},
     "output_type": "execute_result"
    }
   ],
   "source": [
    "line2.index('banana')"
   ]
  },
  {
   "cell_type": "markdown",
   "id": "0296203b",
   "metadata": {},
   "source": [
    "The pop function deletes the item in a list that you indicate."
   ]
  },
  {
   "cell_type": "code",
   "execution_count": 13,
   "id": "3cdca71a",
   "metadata": {},
   "outputs": [
    {
     "data": {
      "text/plain": [
       "['banana', 'grape']"
      ]
     },
     "execution_count": 13,
     "metadata": {},
     "output_type": "execute_result"
    }
   ],
   "source": [
    "line2.pop(0)\n",
    "line2"
   ]
  },
  {
   "cell_type": "markdown",
   "id": "dac2c31b",
   "metadata": {},
   "source": [
    "The sorted function orders the list in ascending or decending order."
   ]
  },
  {
   "cell_type": "code",
   "execution_count": 14,
   "id": "90f63343",
   "metadata": {},
   "outputs": [],
   "source": [
    "numbers= [15, 79, 3, 21, 46]"
   ]
  },
  {
   "cell_type": "code",
   "execution_count": 15,
   "id": "a26156a1",
   "metadata": {},
   "outputs": [
    {
     "data": {
      "text/plain": [
       "[3, 15, 21, 46, 79]"
      ]
     },
     "execution_count": 15,
     "metadata": {},
     "output_type": "execute_result"
    }
   ],
   "source": [
    "sorted(numbers)"
   ]
  },
  {
   "cell_type": "code",
   "execution_count": 16,
   "id": "36ec9051",
   "metadata": {},
   "outputs": [
    {
     "data": {
      "text/plain": [
       "[79, 46, 21, 15, 3]"
      ]
     },
     "execution_count": 16,
     "metadata": {},
     "output_type": "execute_result"
    }
   ],
   "source": [
    "sorted(numbers, reverse=True)"
   ]
  },
  {
   "cell_type": "markdown",
   "id": "fe4c2b5b",
   "metadata": {},
   "source": [
    "The copy function copies an existing list to a new list."
   ]
  },
  {
   "cell_type": "code",
   "execution_count": 17,
   "id": "787c3218",
   "metadata": {},
   "outputs": [],
   "source": [
    "numbers2=numbers.copy()"
   ]
  },
  {
   "cell_type": "code",
   "execution_count": 18,
   "id": "c782c0b5",
   "metadata": {},
   "outputs": [
    {
     "data": {
      "text/plain": [
       "[15, 79, 3, 21, 46]"
      ]
     },
     "execution_count": 18,
     "metadata": {},
     "output_type": "execute_result"
    }
   ],
   "source": [
    "numbers2"
   ]
  },
  {
   "cell_type": "markdown",
   "id": "a4cd4cf3",
   "metadata": {},
   "source": [
    "The clear function removes all items from a list."
   ]
  },
  {
   "cell_type": "code",
   "execution_count": 19,
   "id": "32f27e16",
   "metadata": {},
   "outputs": [],
   "source": [
    "numbers2.clear()"
   ]
  },
  {
   "cell_type": "code",
   "execution_count": 20,
   "id": "01b78578",
   "metadata": {},
   "outputs": [
    {
     "data": {
      "text/plain": [
       "[]"
      ]
     },
     "execution_count": 20,
     "metadata": {},
     "output_type": "execute_result"
    }
   ],
   "source": [
    "numbers2"
   ]
  },
  {
   "cell_type": "markdown",
   "id": "238b4380",
   "metadata": {},
   "source": [
    "The list function converts string to list. "
   ]
  },
  {
   "cell_type": "code",
   "execution_count": 21,
   "id": "e0d1e359",
   "metadata": {},
   "outputs": [
    {
     "data": {
      "text/plain": [
       "str"
      ]
     },
     "execution_count": 21,
     "metadata": {},
     "output_type": "execute_result"
    }
   ],
   "source": [
    "data='PROGRAMMING'\n",
    "type(data)"
   ]
  },
  {
   "cell_type": "code",
   "execution_count": 22,
   "id": "ecd895b7",
   "metadata": {},
   "outputs": [
    {
     "data": {
      "text/plain": [
       "['P', 'R', 'O', 'G', 'R', 'A', 'M', 'M', 'I', 'N', 'G']"
      ]
     },
     "execution_count": 22,
     "metadata": {},
     "output_type": "execute_result"
    }
   ],
   "source": [
    "data_list=list(data)\n",
    "data_list"
   ]
  },
  {
   "cell_type": "markdown",
   "id": "cd6ceb7d",
   "metadata": {},
   "source": [
    "The len function tells you the amount of items in the tuple."
   ]
  },
  {
   "cell_type": "code",
   "execution_count": 23,
   "id": "f34618ad",
   "metadata": {},
   "outputs": [
    {
     "data": {
      "text/plain": [
       "('Pizza', 'Ice Cream', 'Chocolate', 'Chicken')"
      ]
     },
     "execution_count": 23,
     "metadata": {},
     "output_type": "execute_result"
    }
   ],
   "source": [
    "foods=('Pizza', 'Ice Cream', 'Chocolate', 'Chicken')\n",
    "foods"
   ]
  },
  {
   "cell_type": "code",
   "execution_count": 24,
   "id": "98db1a0c",
   "metadata": {},
   "outputs": [
    {
     "data": {
      "text/plain": [
       "4"
      ]
     },
     "execution_count": 24,
     "metadata": {},
     "output_type": "execute_result"
    }
   ],
   "source": [
    "len(foods)"
   ]
  },
  {
   "cell_type": "markdown",
   "id": "08e5e0fa",
   "metadata": {},
   "source": [
    "The max function tells you the maximum value in the tuple."
   ]
  },
  {
   "cell_type": "code",
   "execution_count": 25,
   "id": "909ac466",
   "metadata": {},
   "outputs": [
    {
     "data": {
      "text/plain": [
       "(51, 67, 3, 90, 14, 38)"
      ]
     },
     "execution_count": 25,
     "metadata": {},
     "output_type": "execute_result"
    }
   ],
   "source": [
    "numbers3=(51, 67, 3, 90, 14, 38)\n",
    "numbers3"
   ]
  },
  {
   "cell_type": "code",
   "execution_count": 26,
   "id": "5b1c8620",
   "metadata": {
    "scrolled": true
   },
   "outputs": [
    {
     "data": {
      "text/plain": [
       "90"
      ]
     },
     "execution_count": 26,
     "metadata": {},
     "output_type": "execute_result"
    }
   ],
   "source": [
    "max(numbers3)"
   ]
  },
  {
   "cell_type": "markdown",
   "id": "7ecfaa7a",
   "metadata": {},
   "source": [
    "The min function tells you the minimum value in the tuple."
   ]
  },
  {
   "cell_type": "code",
   "execution_count": 27,
   "id": "2d282700",
   "metadata": {},
   "outputs": [
    {
     "data": {
      "text/plain": [
       "3"
      ]
     },
     "execution_count": 27,
     "metadata": {},
     "output_type": "execute_result"
    }
   ],
   "source": [
    "min(numbers3)"
   ]
  }
 ],
 "metadata": {
  "kernelspec": {
   "display_name": "Python 3 (ipykernel)",
   "language": "python",
   "name": "python3"
  },
  "language_info": {
   "codemirror_mode": {
    "name": "ipython",
    "version": 3
   },
   "file_extension": ".py",
   "mimetype": "text/x-python",
   "name": "python",
   "nbconvert_exporter": "python",
   "pygments_lexer": "ipython3",
   "version": "3.9.12"
  }
 },
 "nbformat": 4,
 "nbformat_minor": 5
}
